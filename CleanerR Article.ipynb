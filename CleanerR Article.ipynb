{
 "cells": [
  {
   "cell_type": "code",
   "execution_count": 2,
   "metadata": {},
   "outputs": [
    {
     "name": "stderr",
     "output_type": "stream",
     "text": [
      "Loading required package: data.table\n",
      "Loading required package: cleanerR\n"
     ]
    }
   ],
   "source": [
    "require(data.table)\n",
    "require(cleanerR)"
   ]
  },
  {
   "cell_type": "markdown",
   "metadata": {},
   "source": [
    "Reading the files"
   ]
  },
  {
   "cell_type": "code",
   "execution_count": 3,
   "metadata": {},
   "outputs": [
    {
     "name": "stdout",
     "output_type": "stream",
     "text": [
      "The dimension of the Kickstarter dataset is 205091 37 \n",
      "Its attributes are: backers_count blurb category converted_pledged_amount country created_at creator currency currency_symbol currency_trailing_code current_currency deadline disable_communication friends fx_rate goal id is_backing is_starrable is_starred launched_at location name permissions photo pledged profile slug source_url spotlight staff_pick state state_changed_at static_usd_rate urls usd_pledged usd_type \n"
     ]
    }
   ],
   "source": [
    "#setwd(\"..\") #If it cant see data uncomment this line, it may already be inside data\n",
    "#list.files()\n",
    "setwd(\"Data\")\n",
    "files=list.files(pattern=\".csv\")\n",
    "Kickstarter=lapply(files,fread)\n",
    "Kickstarter=Reduce(rbind,Kickstarter)\n",
    "cat(\"The dimension of the Kickstarter dataset is\",dim(Kickstarter),\"\\n\")\n",
    "cat(\"Its attributes are:\",names(Kickstarter),\"\\n\")"
   ]
  },
  {
   "cell_type": "markdown",
   "metadata": {},
   "source": [
    "Since cleanerR works best when predicting categorical data lets see the variables of interest"
   ]
  },
  {
   "cell_type": "code",
   "execution_count": 10,
   "metadata": {},
   "outputs": [
    {
     "data": {
      "text/html": [
       "<dl class=dl-horizontal>\n",
       "\t<dt>backers_count</dt>\n",
       "\t\t<dd>'integer'</dd>\n",
       "\t<dt>blurb</dt>\n",
       "\t\t<dd>'character'</dd>\n",
       "\t<dt>category</dt>\n",
       "\t\t<dd>'character'</dd>\n",
       "\t<dt>converted_pledged_amount</dt>\n",
       "\t\t<dd>'integer'</dd>\n",
       "\t<dt>country</dt>\n",
       "\t\t<dd>'character'</dd>\n",
       "\t<dt>created_at</dt>\n",
       "\t\t<dd>'integer'</dd>\n",
       "\t<dt>creator</dt>\n",
       "\t\t<dd>'character'</dd>\n",
       "\t<dt>currency</dt>\n",
       "\t\t<dd>'character'</dd>\n",
       "\t<dt>currency_symbol</dt>\n",
       "\t\t<dd>'character'</dd>\n",
       "\t<dt>currency_trailing_code</dt>\n",
       "\t\t<dd>'logical'</dd>\n",
       "\t<dt>current_currency</dt>\n",
       "\t\t<dd>'character'</dd>\n",
       "\t<dt>deadline</dt>\n",
       "\t\t<dd>'integer'</dd>\n",
       "\t<dt>disable_communication</dt>\n",
       "\t\t<dd>'logical'</dd>\n",
       "\t<dt>friends</dt>\n",
       "\t\t<dd>'character'</dd>\n",
       "\t<dt>fx_rate</dt>\n",
       "\t\t<dd>'numeric'</dd>\n",
       "\t<dt>goal</dt>\n",
       "\t\t<dd>'numeric'</dd>\n",
       "\t<dt>id</dt>\n",
       "\t\t<dd>'integer'</dd>\n",
       "\t<dt>is_backing</dt>\n",
       "\t\t<dd>'logical'</dd>\n",
       "\t<dt>is_starrable</dt>\n",
       "\t\t<dd>'logical'</dd>\n",
       "\t<dt>is_starred</dt>\n",
       "\t\t<dd>'logical'</dd>\n",
       "\t<dt>launched_at</dt>\n",
       "\t\t<dd>'integer'</dd>\n",
       "\t<dt>location</dt>\n",
       "\t\t<dd>'character'</dd>\n",
       "\t<dt>name</dt>\n",
       "\t\t<dd>'character'</dd>\n",
       "\t<dt>permissions</dt>\n",
       "\t\t<dd>'character'</dd>\n",
       "\t<dt>photo</dt>\n",
       "\t\t<dd>'character'</dd>\n",
       "\t<dt>pledged</dt>\n",
       "\t\t<dd>'numeric'</dd>\n",
       "\t<dt>profile</dt>\n",
       "\t\t<dd>'character'</dd>\n",
       "\t<dt>slug</dt>\n",
       "\t\t<dd>'character'</dd>\n",
       "\t<dt>source_url</dt>\n",
       "\t\t<dd>'character'</dd>\n",
       "\t<dt>spotlight</dt>\n",
       "\t\t<dd>'logical'</dd>\n",
       "\t<dt>staff_pick</dt>\n",
       "\t\t<dd>'logical'</dd>\n",
       "\t<dt>state</dt>\n",
       "\t\t<dd>'character'</dd>\n",
       "\t<dt>state_changed_at</dt>\n",
       "\t\t<dd>'integer'</dd>\n",
       "\t<dt>static_usd_rate</dt>\n",
       "\t\t<dd>'numeric'</dd>\n",
       "\t<dt>urls</dt>\n",
       "\t\t<dd>'character'</dd>\n",
       "\t<dt>usd_pledged</dt>\n",
       "\t\t<dd>'numeric'</dd>\n",
       "\t<dt>usd_type</dt>\n",
       "\t\t<dd>'character'</dd>\n",
       "</dl>\n"
      ],
      "text/latex": [
       "\\begin{description*}\n",
       "\\item[backers\\textbackslash{}\\_count] 'integer'\n",
       "\\item[blurb] 'character'\n",
       "\\item[category] 'character'\n",
       "\\item[converted\\textbackslash{}\\_pledged\\textbackslash{}\\_amount] 'integer'\n",
       "\\item[country] 'character'\n",
       "\\item[created\\textbackslash{}\\_at] 'integer'\n",
       "\\item[creator] 'character'\n",
       "\\item[currency] 'character'\n",
       "\\item[currency\\textbackslash{}\\_symbol] 'character'\n",
       "\\item[currency\\textbackslash{}\\_trailing\\textbackslash{}\\_code] 'logical'\n",
       "\\item[current\\textbackslash{}\\_currency] 'character'\n",
       "\\item[deadline] 'integer'\n",
       "\\item[disable\\textbackslash{}\\_communication] 'logical'\n",
       "\\item[friends] 'character'\n",
       "\\item[fx\\textbackslash{}\\_rate] 'numeric'\n",
       "\\item[goal] 'numeric'\n",
       "\\item[id] 'integer'\n",
       "\\item[is\\textbackslash{}\\_backing] 'logical'\n",
       "\\item[is\\textbackslash{}\\_starrable] 'logical'\n",
       "\\item[is\\textbackslash{}\\_starred] 'logical'\n",
       "\\item[launched\\textbackslash{}\\_at] 'integer'\n",
       "\\item[location] 'character'\n",
       "\\item[name] 'character'\n",
       "\\item[permissions] 'character'\n",
       "\\item[photo] 'character'\n",
       "\\item[pledged] 'numeric'\n",
       "\\item[profile] 'character'\n",
       "\\item[slug] 'character'\n",
       "\\item[source\\textbackslash{}\\_url] 'character'\n",
       "\\item[spotlight] 'logical'\n",
       "\\item[staff\\textbackslash{}\\_pick] 'logical'\n",
       "\\item[state] 'character'\n",
       "\\item[state\\textbackslash{}\\_changed\\textbackslash{}\\_at] 'integer'\n",
       "\\item[static\\textbackslash{}\\_usd\\textbackslash{}\\_rate] 'numeric'\n",
       "\\item[urls] 'character'\n",
       "\\item[usd\\textbackslash{}\\_pledged] 'numeric'\n",
       "\\item[usd\\textbackslash{}\\_type] 'character'\n",
       "\\end{description*}\n"
      ],
      "text/markdown": [
       "backers_count\n",
       ":   'integer'blurb\n",
       ":   'character'category\n",
       ":   'character'converted_pledged_amount\n",
       ":   'integer'country\n",
       ":   'character'created_at\n",
       ":   'integer'creator\n",
       ":   'character'currency\n",
       ":   'character'currency_symbol\n",
       ":   'character'currency_trailing_code\n",
       ":   'logical'current_currency\n",
       ":   'character'deadline\n",
       ":   'integer'disable_communication\n",
       ":   'logical'friends\n",
       ":   'character'fx_rate\n",
       ":   'numeric'goal\n",
       ":   'numeric'id\n",
       ":   'integer'is_backing\n",
       ":   'logical'is_starrable\n",
       ":   'logical'is_starred\n",
       ":   'logical'launched_at\n",
       ":   'integer'location\n",
       ":   'character'name\n",
       ":   'character'permissions\n",
       ":   'character'photo\n",
       ":   'character'pledged\n",
       ":   'numeric'profile\n",
       ":   'character'slug\n",
       ":   'character'source_url\n",
       ":   'character'spotlight\n",
       ":   'logical'staff_pick\n",
       ":   'logical'state\n",
       ":   'character'state_changed_at\n",
       ":   'integer'static_usd_rate\n",
       ":   'numeric'urls\n",
       ":   'character'usd_pledged\n",
       ":   'numeric'usd_type\n",
       ":   'character'\n",
       "\n"
      ],
      "text/plain": [
       "           backers_count                    blurb                 category \n",
       "               \"integer\"              \"character\"              \"character\" \n",
       "converted_pledged_amount                  country               created_at \n",
       "               \"integer\"              \"character\"                \"integer\" \n",
       "                 creator                 currency          currency_symbol \n",
       "             \"character\"              \"character\"              \"character\" \n",
       "  currency_trailing_code         current_currency                 deadline \n",
       "               \"logical\"              \"character\"                \"integer\" \n",
       "   disable_communication                  friends                  fx_rate \n",
       "               \"logical\"              \"character\"                \"numeric\" \n",
       "                    goal                       id               is_backing \n",
       "               \"numeric\"                \"integer\"                \"logical\" \n",
       "            is_starrable               is_starred              launched_at \n",
       "               \"logical\"                \"logical\"                \"integer\" \n",
       "                location                     name              permissions \n",
       "             \"character\"              \"character\"              \"character\" \n",
       "                   photo                  pledged                  profile \n",
       "             \"character\"                \"numeric\"              \"character\" \n",
       "                    slug               source_url                spotlight \n",
       "             \"character\"              \"character\"                \"logical\" \n",
       "              staff_pick                    state         state_changed_at \n",
       "               \"logical\"              \"character\"                \"integer\" \n",
       "         static_usd_rate                     urls              usd_pledged \n",
       "               \"numeric\"              \"character\"                \"numeric\" \n",
       "                usd_type \n",
       "             \"character\" "
      ]
     },
     "metadata": {},
     "output_type": "display_data"
    }
   ],
   "source": [
    "sapply(Kickstarter,class)"
   ]
  },
  {
   "cell_type": "code",
   "execution_count": 11,
   "metadata": {},
   "outputs": [
    {
     "data": {
      "text/html": [
       "<dl class=dl-horizontal>\n",
       "\t<dt>backers_count</dt>\n",
       "\t\t<dd>3191</dd>\n",
       "\t<dt>blurb</dt>\n",
       "\t\t<dd>184680</dd>\n",
       "\t<dt>category</dt>\n",
       "\t\t<dd>169</dd>\n",
       "\t<dt>converted_pledged_amount</dt>\n",
       "\t\t<dd>31086</dd>\n",
       "\t<dt>country</dt>\n",
       "\t\t<dd>22</dd>\n",
       "\t<dt>created_at</dt>\n",
       "\t\t<dd>186053</dd>\n",
       "\t<dt>creator</dt>\n",
       "\t\t<dd>204004</dd>\n",
       "\t<dt>currency</dt>\n",
       "\t\t<dd>14</dd>\n",
       "\t<dt>currency_symbol</dt>\n",
       "\t\t<dd>6</dd>\n",
       "\t<dt>currency_trailing_code</dt>\n",
       "\t\t<dd>2</dd>\n",
       "\t<dt>current_currency</dt>\n",
       "\t\t<dd>5</dd>\n",
       "\t<dt>deadline</dt>\n",
       "\t\t<dd>174027</dd>\n",
       "\t<dt>disable_communication</dt>\n",
       "\t\t<dd>2</dd>\n",
       "\t<dt>friends</dt>\n",
       "\t\t<dd>3</dd>\n",
       "\t<dt>fx_rate</dt>\n",
       "\t\t<dd>51</dd>\n",
       "\t<dt>goal</dt>\n",
       "\t\t<dd>5120</dd>\n",
       "\t<dt>id</dt>\n",
       "\t\t<dd>186153</dd>\n",
       "\t<dt>is_backing</dt>\n",
       "\t\t<dd>3</dd>\n",
       "\t<dt>is_starrable</dt>\n",
       "\t\t<dd>2</dd>\n",
       "\t<dt>is_starred</dt>\n",
       "\t\t<dd>3</dd>\n",
       "\t<dt>launched_at</dt>\n",
       "\t\t<dd>186028</dd>\n",
       "\t<dt>location</dt>\n",
       "\t\t<dd>15280</dd>\n",
       "\t<dt>name</dt>\n",
       "\t\t<dd>185586</dd>\n",
       "\t<dt>permissions</dt>\n",
       "\t\t<dd>3</dd>\n",
       "\t<dt>photo</dt>\n",
       "\t\t<dd>186155</dd>\n",
       "\t<dt>pledged</dt>\n",
       "\t\t<dd>45242</dd>\n",
       "\t<dt>profile</dt>\n",
       "\t\t<dd>186155</dd>\n",
       "\t<dt>slug</dt>\n",
       "\t\t<dd>186153</dd>\n",
       "\t<dt>source_url</dt>\n",
       "\t\t<dd>169</dd>\n",
       "\t<dt>spotlight</dt>\n",
       "\t\t<dd>2</dd>\n",
       "\t<dt>staff_pick</dt>\n",
       "\t\t<dd>2</dd>\n",
       "\t<dt>state</dt>\n",
       "\t\t<dd>5</dd>\n",
       "\t<dt>state_changed_at</dt>\n",
       "\t\t<dd>176382</dd>\n",
       "\t<dt>static_usd_rate</dt>\n",
       "\t\t<dd>9434</dd>\n",
       "\t<dt>urls</dt>\n",
       "\t\t<dd>186295</dd>\n",
       "\t<dt>usd_pledged</dt>\n",
       "\t\t<dd>73446</dd>\n",
       "\t<dt>usd_type</dt>\n",
       "\t\t<dd>3</dd>\n",
       "</dl>\n"
      ],
      "text/latex": [
       "\\begin{description*}\n",
       "\\item[backers\\textbackslash{}\\_count] 3191\n",
       "\\item[blurb] 184680\n",
       "\\item[category] 169\n",
       "\\item[converted\\textbackslash{}\\_pledged\\textbackslash{}\\_amount] 31086\n",
       "\\item[country] 22\n",
       "\\item[created\\textbackslash{}\\_at] 186053\n",
       "\\item[creator] 204004\n",
       "\\item[currency] 14\n",
       "\\item[currency\\textbackslash{}\\_symbol] 6\n",
       "\\item[currency\\textbackslash{}\\_trailing\\textbackslash{}\\_code] 2\n",
       "\\item[current\\textbackslash{}\\_currency] 5\n",
       "\\item[deadline] 174027\n",
       "\\item[disable\\textbackslash{}\\_communication] 2\n",
       "\\item[friends] 3\n",
       "\\item[fx\\textbackslash{}\\_rate] 51\n",
       "\\item[goal] 5120\n",
       "\\item[id] 186153\n",
       "\\item[is\\textbackslash{}\\_backing] 3\n",
       "\\item[is\\textbackslash{}\\_starrable] 2\n",
       "\\item[is\\textbackslash{}\\_starred] 3\n",
       "\\item[launched\\textbackslash{}\\_at] 186028\n",
       "\\item[location] 15280\n",
       "\\item[name] 185586\n",
       "\\item[permissions] 3\n",
       "\\item[photo] 186155\n",
       "\\item[pledged] 45242\n",
       "\\item[profile] 186155\n",
       "\\item[slug] 186153\n",
       "\\item[source\\textbackslash{}\\_url] 169\n",
       "\\item[spotlight] 2\n",
       "\\item[staff\\textbackslash{}\\_pick] 2\n",
       "\\item[state] 5\n",
       "\\item[state\\textbackslash{}\\_changed\\textbackslash{}\\_at] 176382\n",
       "\\item[static\\textbackslash{}\\_usd\\textbackslash{}\\_rate] 9434\n",
       "\\item[urls] 186295\n",
       "\\item[usd\\textbackslash{}\\_pledged] 73446\n",
       "\\item[usd\\textbackslash{}\\_type] 3\n",
       "\\end{description*}\n"
      ],
      "text/markdown": [
       "backers_count\n",
       ":   3191blurb\n",
       ":   184680category\n",
       ":   169converted_pledged_amount\n",
       ":   31086country\n",
       ":   22created_at\n",
       ":   186053creator\n",
       ":   204004currency\n",
       ":   14currency_symbol\n",
       ":   6currency_trailing_code\n",
       ":   2current_currency\n",
       ":   5deadline\n",
       ":   174027disable_communication\n",
       ":   2friends\n",
       ":   3fx_rate\n",
       ":   51goal\n",
       ":   5120id\n",
       ":   186153is_backing\n",
       ":   3is_starrable\n",
       ":   2is_starred\n",
       ":   3launched_at\n",
       ":   186028location\n",
       ":   15280name\n",
       ":   185586permissions\n",
       ":   3photo\n",
       ":   186155pledged\n",
       ":   45242profile\n",
       ":   186155slug\n",
       ":   186153source_url\n",
       ":   169spotlight\n",
       ":   2staff_pick\n",
       ":   2state\n",
       ":   5state_changed_at\n",
       ":   176382static_usd_rate\n",
       ":   9434urls\n",
       ":   186295usd_pledged\n",
       ":   73446usd_type\n",
       ":   3\n",
       "\n"
      ],
      "text/plain": [
       "           backers_count                    blurb                 category \n",
       "                    3191                   184680                      169 \n",
       "converted_pledged_amount                  country               created_at \n",
       "                   31086                       22                   186053 \n",
       "                 creator                 currency          currency_symbol \n",
       "                  204004                       14                        6 \n",
       "  currency_trailing_code         current_currency                 deadline \n",
       "                       2                        5                   174027 \n",
       "   disable_communication                  friends                  fx_rate \n",
       "                       2                        3                       51 \n",
       "                    goal                       id               is_backing \n",
       "                    5120                   186153                        3 \n",
       "            is_starrable               is_starred              launched_at \n",
       "                       2                        3                   186028 \n",
       "                location                     name              permissions \n",
       "                   15280                   185586                        3 \n",
       "                   photo                  pledged                  profile \n",
       "                  186155                    45242                   186155 \n",
       "                    slug               source_url                spotlight \n",
       "                  186153                      169                        2 \n",
       "              staff_pick                    state         state_changed_at \n",
       "                       2                        5                   176382 \n",
       "         static_usd_rate                     urls              usd_pledged \n",
       "                    9434                   186295                    73446 \n",
       "                usd_type \n",
       "                       3 "
      ]
     },
     "metadata": {},
     "output_type": "display_data"
    }
   ],
   "source": [
    "sapply(sapply(Kickstarter,unique),length)"
   ]
  },
  {
   "cell_type": "markdown",
   "metadata": {},
   "source": [
    "Lets order the variables that are not numeric by their unique frequency"
   ]
  },
  {
   "cell_type": "code",
   "execution_count": 20,
   "metadata": {},
   "outputs": [
    {
     "data": {
      "text/html": [
       "<dl class=dl-horizontal>\n",
       "\t<dt>currency_trailing_code</dt>\n",
       "\t\t<dd>2</dd>\n",
       "\t<dt>disable_communication</dt>\n",
       "\t\t<dd>2</dd>\n",
       "\t<dt>is_starrable</dt>\n",
       "\t\t<dd>2</dd>\n",
       "\t<dt>spotlight</dt>\n",
       "\t\t<dd>2</dd>\n",
       "\t<dt>staff_pick</dt>\n",
       "\t\t<dd>2</dd>\n",
       "\t<dt>friends</dt>\n",
       "\t\t<dd>3</dd>\n",
       "\t<dt>is_backing</dt>\n",
       "\t\t<dd>3</dd>\n",
       "\t<dt>is_starred</dt>\n",
       "\t\t<dd>3</dd>\n",
       "\t<dt>permissions</dt>\n",
       "\t\t<dd>3</dd>\n",
       "\t<dt>usd_type</dt>\n",
       "\t\t<dd>3</dd>\n",
       "\t<dt>current_currency</dt>\n",
       "\t\t<dd>5</dd>\n",
       "\t<dt>state</dt>\n",
       "\t\t<dd>5</dd>\n",
       "\t<dt>currency_symbol</dt>\n",
       "\t\t<dd>6</dd>\n",
       "\t<dt>currency</dt>\n",
       "\t\t<dd>14</dd>\n",
       "\t<dt>country</dt>\n",
       "\t\t<dd>22</dd>\n",
       "\t<dt>category</dt>\n",
       "\t\t<dd>169</dd>\n",
       "\t<dt>source_url</dt>\n",
       "\t\t<dd>169</dd>\n",
       "\t<dt>location</dt>\n",
       "\t\t<dd>15280</dd>\n",
       "\t<dt>blurb</dt>\n",
       "\t\t<dd>184680</dd>\n",
       "\t<dt>name</dt>\n",
       "\t\t<dd>185586</dd>\n",
       "\t<dt>slug</dt>\n",
       "\t\t<dd>186153</dd>\n",
       "\t<dt>photo</dt>\n",
       "\t\t<dd>186155</dd>\n",
       "\t<dt>profile</dt>\n",
       "\t\t<dd>186155</dd>\n",
       "\t<dt>urls</dt>\n",
       "\t\t<dd>186295</dd>\n",
       "\t<dt>creator</dt>\n",
       "\t\t<dd>204004</dd>\n",
       "</dl>\n"
      ],
      "text/latex": [
       "\\begin{description*}\n",
       "\\item[currency\\textbackslash{}\\_trailing\\textbackslash{}\\_code] 2\n",
       "\\item[disable\\textbackslash{}\\_communication] 2\n",
       "\\item[is\\textbackslash{}\\_starrable] 2\n",
       "\\item[spotlight] 2\n",
       "\\item[staff\\textbackslash{}\\_pick] 2\n",
       "\\item[friends] 3\n",
       "\\item[is\\textbackslash{}\\_backing] 3\n",
       "\\item[is\\textbackslash{}\\_starred] 3\n",
       "\\item[permissions] 3\n",
       "\\item[usd\\textbackslash{}\\_type] 3\n",
       "\\item[current\\textbackslash{}\\_currency] 5\n",
       "\\item[state] 5\n",
       "\\item[currency\\textbackslash{}\\_symbol] 6\n",
       "\\item[currency] 14\n",
       "\\item[country] 22\n",
       "\\item[category] 169\n",
       "\\item[source\\textbackslash{}\\_url] 169\n",
       "\\item[location] 15280\n",
       "\\item[blurb] 184680\n",
       "\\item[name] 185586\n",
       "\\item[slug] 186153\n",
       "\\item[photo] 186155\n",
       "\\item[profile] 186155\n",
       "\\item[urls] 186295\n",
       "\\item[creator] 204004\n",
       "\\end{description*}\n"
      ],
      "text/markdown": [
       "currency_trailing_code\n",
       ":   2disable_communication\n",
       ":   2is_starrable\n",
       ":   2spotlight\n",
       ":   2staff_pick\n",
       ":   2friends\n",
       ":   3is_backing\n",
       ":   3is_starred\n",
       ":   3permissions\n",
       ":   3usd_type\n",
       ":   3current_currency\n",
       ":   5state\n",
       ":   5currency_symbol\n",
       ":   6currency\n",
       ":   14country\n",
       ":   22category\n",
       ":   169source_url\n",
       ":   169location\n",
       ":   15280blurb\n",
       ":   184680name\n",
       ":   185586slug\n",
       ":   186153photo\n",
       ":   186155profile\n",
       ":   186155urls\n",
       ":   186295creator\n",
       ":   204004\n",
       "\n"
      ],
      "text/plain": [
       "currency_trailing_code  disable_communication           is_starrable \n",
       "                     2                      2                      2 \n",
       "             spotlight             staff_pick                friends \n",
       "                     2                      2                      3 \n",
       "            is_backing             is_starred            permissions \n",
       "                     3                      3                      3 \n",
       "              usd_type       current_currency                  state \n",
       "                     3                      5                      5 \n",
       "       currency_symbol               currency                country \n",
       "                     6                     14                     22 \n",
       "              category             source_url               location \n",
       "                   169                    169                  15280 \n",
       "                 blurb                   name                   slug \n",
       "                184680                 185586                 186153 \n",
       "                 photo                profile                   urls \n",
       "                186155                 186155                 186295 \n",
       "               creator \n",
       "                204004 "
      ]
     },
     "metadata": {},
     "output_type": "display_data"
    }
   ],
   "source": [
    "caracteres=which(!(sapply(Kickstarter,class) %in% c('numeric','integer')))\n",
    "KickCar=Kickstarter[,..caracteres]\n",
    "ClassesFrequency=sapply(sapply(KickCar,unique),length)\n",
    "ClassesFrequency[order(as.numeric(ClassesFrequency))]"
   ]
  },
  {
   "cell_type": "markdown",
   "metadata": {},
   "source": [
    "Now we will do the following test, try to predict spotlight, state, currency, country ,category , source_url and location, the variables with more unique variables are close to primary keys of the dataset\n",
    "\n",
    "The process will be the following we shall make a copy of the dataset, randomly set a percentage of the values of a atribute to NA, and then try to predict then,after predicted we compare the predicted vs the original to determine accuracy, while also showing what would be the accuracy using the distribution of the original data, the percentages we shall work with is 5%,10%,25% and 50% of missing data.\n",
    "\n",
    "First lets define the function for this test:"
   ]
  },
  {
   "cell_type": "code",
   "execution_count": 4,
   "metadata": {},
   "outputs": [],
   "source": [
    "test=function(k2,perc,goal,row){\n",
    "    vec=c()\n",
    "    k2=data.frame(k2)\n",
    "    for(i in 1:10){\n",
    "        k3=k2\n",
    "        Positions=sample(1:nrow(k3),perc*nrow(k3))\n",
    "        k3[Positions,goal]=NA\n",
    "        k3=CompleteDataset(k3,row,goal)\n",
    "        vec[i]=sum(k3[Positions,goal]==k2[Positions,goal])/length(Positions)\n",
    "\n",
    "    }\n",
    "    return(vec)\n",
    "}"
   ]
  },
  {
   "cell_type": "markdown",
   "metadata": {},
   "source": [
    "To start doing the tests"
   ]
  },
  {
   "cell_type": "code",
   "execution_count": 5,
   "metadata": {},
   "outputs": [],
   "source": [
    "SpotLight=which(names(Kickstarter)==\"spotlight\")\n",
    "State=which(names(Kickstarter)==\"state\")\n",
    "Currency=which(names(Kickstarter)==\"currency\")\n",
    "Country=which(names(Kickstarter)==\"country\")\n",
    "Category=which(names(Kickstarter)==\"category\")\n",
    "SourceUrl=which(names(Kickstarter)==\"source_url\")"
   ]
  },
  {
   "cell_type": "code",
   "execution_count": 43,
   "metadata": {},
   "outputs": [
    {
     "name": "stdout",
     "output_type": "stream",
     "text": [
      "Spotlight statitical accuracy is: 0.5061778 \n",
      "State statitical accuracy is: 0.4462562 \n",
      "Currency statitical accuracy is: 0.6307156 \n",
      "Country statitical accuracy is: 0.6291397 \n",
      "Category statitical accuracy is: 0.009811976 \n",
      "SourceUrl statitical accuracy is: 0.00928841 \n"
     ]
    }
   ],
   "source": [
    "cat(\"Spotlight statitical accuracy is:\",sum((as.numeric(table(Kickstarter$spotlight))/nrow(Kickstarter))^2),\"\\n\" )\n",
    "cat(\"State statitical accuracy is:\",sum((as.numeric(table(Kickstarter$state))/nrow(Kickstarter))^2),\"\\n\" )\n",
    "cat(\"Currency statitical accuracy is:\",sum((as.numeric(table(Kickstarter$currency))/nrow(Kickstarter))^2),\"\\n\" )\n",
    "cat(\"Country statitical accuracy is:\",sum((as.numeric(table(Kickstarter$country))/nrow(Kickstarter))^2),\"\\n\" )\n",
    "cat(\"Category statitical accuracy is:\",sum((as.numeric(table(Kickstarter$category))/nrow(Kickstarter))^2),\"\\n\" )\n",
    "cat(\"SourceUrl statitical accuracy is:\",sum((as.numeric(table(Kickstarter$source_url))/nrow(Kickstarter))^2),\"\\n\" )"
   ]
  },
  {
   "cell_type": "code",
   "execution_count": 35,
   "metadata": {},
   "outputs": [
    {
     "name": "stdout",
     "output_type": "stream",
     "text": [
      "[1] 1\n",
      "[1] 2\n",
      "[1] 3\n",
      "The test accuracy mean is: 1 Its standart deviation is: 0 \n",
      "The test accuracy mean is: 1 Its standart deviation is: 0 \n",
      "The test accuracy mean is: 1 Its standart deviation is: 0 \n",
      "The test accuracy mean is: 1 Its standart deviation is: 0 \n"
     ]
    }
   ],
   "source": [
    "rows=BestVector(df = Kickstarter,goal = SpotLight,maxi = 3,repetitions = nrow(Kickstarter),trigger = 0.9,ratio=0.9)\n",
    "vec=test(Kickstarter,0.05,SpotLight,rows)\n",
    "cat(\"The test accuracy mean is:\",mean(vec),\"Its standart deviation is:\",sd(vec),\"\\n\")\n",
    "vec=test(Kickstarter,0.10,SpotLight,rows)\n",
    "cat(\"The test accuracy mean is:\",mean(vec),\"Its standart deviation is:\",sd(vec),\"\\n\")\n",
    "vec=test(Kickstarter,0.25,SpotLight,rows)\n",
    "cat(\"The test accuracy mean is:\",mean(vec),\"Its standart deviation is:\",sd(vec),\"\\n\")\n",
    "vec=test(Kickstarter,0.5,SpotLight,rows)\n",
    "cat(\"The test accuracy mean is:\",mean(vec),\"Its standart deviation is:\",sd(vec),\"\\n\")"
   ]
  },
  {
   "cell_type": "code",
   "execution_count": 36,
   "metadata": {},
   "outputs": [
    {
     "name": "stdout",
     "output_type": "stream",
     "text": [
      "[1] 1\n",
      "[1] 2\n",
      "[1] 3\n"
     ]
    },
    {
     "name": "stderr",
     "output_type": "stream",
     "text": [
      "Warning message in names(df)[solution] == names(df_aux):\n",
      "“comprimento do objeto maior não é múltiplo do comprimento do objeto menor”"
     ]
    },
    {
     "name": "stdout",
     "output_type": "stream",
     "text": [
      "The test accuracy mean is: 0.871377 Its standart deviation is: 0.00377913 \n",
      "The test accuracy mean is: 0.8700375 Its standart deviation is: 0.001589842 \n",
      "The test accuracy mean is: 0.8706741 Its standart deviation is: 0.0008510364 \n",
      "The test accuracy mean is: 0.8702336 Its standart deviation is: 0.0007285919 \n"
     ]
    }
   ],
   "source": [
    "rows=BestVector(df = Kickstarter,goal = State,maxi = 3,repetitions = nrow(Kickstarter),trigger = 0.9,ratio=0.9)\n",
    "vec=test(Kickstarter,0.05,State,rows)\n",
    "cat(\"The test accuracy mean is:\",mean(vec),\"Its standart deviation is:\",sd(vec),\"\\n\")\n",
    "vec=test(Kickstarter,0.10,State,rows)\n",
    "cat(\"The test accuracy mean is:\",mean(vec),\"Its standart deviation is:\",sd(vec),\"\\n\")\n",
    "vec=test(Kickstarter,0.25,State,rows)\n",
    "cat(\"The test accuracy mean is:\",mean(vec),\"Its standart deviation is:\",sd(vec),\"\\n\")\n",
    "vec=test(Kickstarter,0.5,State,rows)\n",
    "cat(\"The test accuracy mean is:\",mean(vec),\"Its standart deviation is:\",sd(vec),\"\\n\")"
   ]
  },
  {
   "cell_type": "code",
   "execution_count": 37,
   "metadata": {},
   "outputs": [
    {
     "name": "stdout",
     "output_type": "stream",
     "text": [
      "[1] 1\n",
      "[1] 2\n",
      "[1] 3\n",
      "The test accuracy mean is: 1 Its standart deviation is: 0 \n",
      "The test accuracy mean is: 1 Its standart deviation is: 0 \n",
      "The test accuracy mean is: 1 Its standart deviation is: 0 \n",
      "The test accuracy mean is: 1 Its standart deviation is: 0 \n"
     ]
    }
   ],
   "source": [
    "rows=BestVector(df = Kickstarter,goal = Currency,maxi = 3,repetitions = nrow(Kickstarter),trigger = 0.9,ratio=0.9)\n",
    "vec=test(Kickstarter,0.05,Currency,rows)\n",
    "cat(\"The test accuracy mean is:\",mean(vec),\"Its standart deviation is:\",sd(vec),\"\\n\")\n",
    "vec=test(Kickstarter,0.10,Currency,rows)\n",
    "cat(\"The test accuracy mean is:\",mean(vec),\"Its standart deviation is:\",sd(vec),\"\\n\")\n",
    "vec=test(Kickstarter,0.25,Currency,rows)\n",
    "cat(\"The test accuracy mean is:\",mean(vec),\"Its standart deviation is:\",sd(vec),\"\\n\")\n",
    "vec=test(Kickstarter,0.5,Currency,rows)\n",
    "cat(\"The test accuracy mean is:\",mean(vec),\"Its standart deviation is:\",sd(vec),\"\\n\")"
   ]
  },
  {
   "cell_type": "code",
   "execution_count": 38,
   "metadata": {},
   "outputs": [
    {
     "name": "stdout",
     "output_type": "stream",
     "text": [
      "[1] 1\n",
      "[1] 2\n",
      "[1] 3\n",
      "The test accuracy mean is: 0.9643164 Its standart deviation is: 0.001102819 \n",
      "The test accuracy mean is: 0.9634843 Its standart deviation is: 0.00119732 \n",
      "The test accuracy mean is: 0.9635318 Its standart deviation is: 0.0003870088 \n",
      "The test accuracy mean is: 0.963537 Its standart deviation is: 0.0003161103 \n"
     ]
    }
   ],
   "source": [
    "rows=BestVector(df = Kickstarter,goal = Country,maxi = 3,repetitions = nrow(Kickstarter),trigger = 0.9,ratio=0.9)\n",
    "vec=test(Kickstarter,0.05,Country,rows)\n",
    "cat(\"The test accuracy mean is:\",mean(vec),\"Its standart deviation is:\",sd(vec),\"\\n\")\n",
    "vec=test(Kickstarter,0.10,Country,rows)\n",
    "cat(\"The test accuracy mean is:\",mean(vec),\"Its standart deviation is:\",sd(vec),\"\\n\")\n",
    "vec=test(Kickstarter,0.25,Country,rows)\n",
    "cat(\"The test accuracy mean is:\",mean(vec),\"Its standart deviation is:\",sd(vec),\"\\n\")\n",
    "vec=test(Kickstarter,0.5,Country,rows)\n",
    "cat(\"The test accuracy mean is:\",mean(vec),\"Its standart deviation is:\",sd(vec),\"\\n\")"
   ]
  },
  {
   "cell_type": "code",
   "execution_count": 39,
   "metadata": {},
   "outputs": [
    {
     "name": "stdout",
     "output_type": "stream",
     "text": [
      "[1] 1\n",
      "[1] 2\n",
      "[1] 3\n",
      "The test accuracy mean is: 0.9007802 Its standart deviation is: 0.002496621 \n",
      "The test accuracy mean is: 0.899293 Its standart deviation is: 0.00218737 \n",
      "The test accuracy mean is: 0.899569 Its standart deviation is: 0.0008822136 \n",
      "The test accuracy mean is: 0.8997221 Its standart deviation is: 0.0005949762 \n"
     ]
    }
   ],
   "source": [
    "rows=BestVector(df = Kickstarter,goal = Category,maxi = 3,repetitions = nrow(Kickstarter),trigger = 0.9,ratio=0.9)\n",
    "vec=test(Kickstarter,0.05,Category,rows)\n",
    "cat(\"The test accuracy mean is:\",mean(vec),\"Its standart deviation is:\",sd(vec),\"\\n\")\n",
    "vec=test(Kickstarter,0.10,Category,rows)\n",
    "cat(\"The test accuracy mean is:\",mean(vec),\"Its standart deviation is:\",sd(vec),\"\\n\")\n",
    "vec=test(Kickstarter,0.25,Category,rows)\n",
    "cat(\"The test accuracy mean is:\",mean(vec),\"Its standart deviation is:\",sd(vec),\"\\n\")\n",
    "vec=test(Kickstarter,0.5,Category,rows)\n",
    "cat(\"The test accuracy mean is:\",mean(vec),\"Its standart deviation is:\",sd(vec),\"\\n\")"
   ]
  },
  {
   "cell_type": "code",
   "execution_count": null,
   "metadata": {},
   "outputs": [],
   "source": [
    "rows=BestVector(df = Kickstarter,goal = SourceUrl,maxi = 3,repetitions = nrow(Kickstarter),trigger = 0.9,ratio=0.9)\n",
    "vec=test(Kickstarter,0.05,SourceUrl,rows)\n",
    "cat(\"The test accuracy mean is:\",mean(vec),\"Its standart deviation is:\",sd(vec),\"\\n\")\n",
    "vec=test(Kickstarter,0.10,SourceUrl,rows)\n",
    "cat(\"The test accuracy mean is:\",mean(vec),\"Its standart deviation is:\",sd(vec),\"\\n\")\n",
    "vec=test(Kickstarter,0.25,SourceUrl,rows)\n",
    "cat(\"The test accuracy mean is:\",mean(vec),\"Its standart deviation is:\",sd(vec),\"\\n\")\n",
    "vec=test(Kickstarter,0.5,SourceUrl,rows)\n",
    "cat(\"The test accuracy mean is:\",mean(vec),\"Its standart deviation is:\",sd(vec),\"\\n\")"
   ]
  },
  {
   "cell_type": "code",
   "execution_count": null,
   "metadata": {},
   "outputs": [],
   "source": []
  }
 ],
 "metadata": {
  "kernelspec": {
   "display_name": "R",
   "language": "R",
   "name": "ir"
  },
  "language_info": {
   "codemirror_mode": "r",
   "file_extension": ".r",
   "mimetype": "text/x-r-source",
   "name": "R",
   "pygments_lexer": "r",
   "version": "3.4.4"
  }
 },
 "nbformat": 4,
 "nbformat_minor": 2
}
